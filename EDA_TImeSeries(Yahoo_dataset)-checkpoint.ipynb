{
 "cells": [
  {
   "cell_type": "markdown",
   "id": "ba2656a0",
   "metadata": {},
   "source": [
    "EDA_Time-Series\n"
   ]
  },
  {
   "cell_type": "code",
   "execution_count": 2,
   "id": "f7b614ac",
   "metadata": {},
   "outputs": [
    {
     "name": "stdout",
     "output_type": "stream",
     "text": [
      "Requirement already satisfied: pandas-datareader in c:\\users\\alber\\appdata\\local\\programs\\python\\python39\\lib\\site-packages (0.10.0)"
     ]
    },
    {
     "name": "stderr",
     "output_type": "stream",
     "text": [
      "WARNING: You are using pip version 22.0.3; however, version 22.2.2 is available.\n",
      "You should consider upgrading via the 'C:\\Users\\alber\\AppData\\Local\\Programs\\Python\\Python39\\python.exe -m pip install --upgrade pip' command.\n"
     ]
    },
    {
     "name": "stdout",
     "output_type": "stream",
     "text": [
      "\n",
      "Requirement already satisfied: lxml in c:\\users\\alber\\appdata\\local\\programs\\python\\python39\\lib\\site-packages (from pandas-datareader) (4.9.1)\n",
      "Requirement already satisfied: requests>=2.19.0 in c:\\users\\alber\\appdata\\local\\programs\\python\\python39\\lib\\site-packages (from pandas-datareader) (2.26.0)\n",
      "Requirement already satisfied: pandas>=0.23 in c:\\users\\alber\\appdata\\local\\programs\\python\\python39\\lib\\site-packages (from pandas-datareader) (1.3.1)\n",
      "Requirement already satisfied: numpy>=1.17.3 in c:\\users\\alber\\appdata\\local\\programs\\python\\python39\\lib\\site-packages (from pandas>=0.23->pandas-datareader) (1.21.1)\n",
      "Requirement already satisfied: pytz>=2017.3 in c:\\users\\alber\\appdata\\local\\programs\\python\\python39\\lib\\site-packages (from pandas>=0.23->pandas-datareader) (2021.1)\n",
      "Requirement already satisfied: python-dateutil>=2.7.3 in c:\\users\\alber\\appdata\\local\\programs\\python\\python39\\lib\\site-packages (from pandas>=0.23->pandas-datareader) (2.8.2)\n",
      "Requirement already satisfied: idna<4,>=2.5 in c:\\users\\alber\\appdata\\local\\programs\\python\\python39\\lib\\site-packages (from requests>=2.19.0->pandas-datareader) (3.2)\n",
      "Requirement already satisfied: charset-normalizer~=2.0.0 in c:\\users\\alber\\appdata\\local\\programs\\python\\python39\\lib\\site-packages (from requests>=2.19.0->pandas-datareader) (2.0.4)\n",
      "Requirement already satisfied: urllib3<1.27,>=1.21.1 in c:\\users\\alber\\appdata\\local\\programs\\python\\python39\\lib\\site-packages (from requests>=2.19.0->pandas-datareader) (1.26.6)\n",
      "Requirement already satisfied: certifi>=2017.4.17 in c:\\users\\alber\\appdata\\local\\programs\\python\\python39\\lib\\site-packages (from requests>=2.19.0->pandas-datareader) (2021.5.30)\n",
      "Requirement already satisfied: six>=1.5 in c:\\users\\alber\\appdata\\local\\programs\\python\\python39\\lib\\site-packages (from python-dateutil>=2.7.3->pandas>=0.23->pandas-datareader) (1.16.0)\n"
     ]
    }
   ],
   "source": [
    "## install the pandas data reader by pip install pandas-datareader\n",
    "!pip install pandas-datareader\n"
   ]
  },
  {
   "cell_type": "code",
   "execution_count": 3,
   "id": "33a6f93b",
   "metadata": {},
   "outputs": [],
   "source": [
    "## Importign the liabrarires\n",
    "import pandas_datareader as pdr\n",
    "import pandas as pd\n",
    "from datetime import datetime"
   ]
  },
  {
   "cell_type": "code",
   "execution_count": 5,
   "id": "612ede7f",
   "metadata": {
    "scrolled": true
   },
   "outputs": [],
   "source": [
    "## getting data set of previous 5 years from the day of execution\n",
    "df_tesla=pdr.get_data_yahoo('TSLA')"
   ]
  },
  {
   "cell_type": "code",
   "execution_count": 6,
   "id": "c2c33857",
   "metadata": {},
   "outputs": [
    {
     "data": {
      "text/html": [
       "<div>\n",
       "<style scoped>\n",
       "    .dataframe tbody tr th:only-of-type {\n",
       "        vertical-align: middle;\n",
       "    }\n",
       "\n",
       "    .dataframe tbody tr th {\n",
       "        vertical-align: top;\n",
       "    }\n",
       "\n",
       "    .dataframe thead th {\n",
       "        text-align: right;\n",
       "    }\n",
       "</style>\n",
       "<table border=\"1\" class=\"dataframe\">\n",
       "  <thead>\n",
       "    <tr style=\"text-align: right;\">\n",
       "      <th></th>\n",
       "      <th>High</th>\n",
       "      <th>Low</th>\n",
       "      <th>Open</th>\n",
       "      <th>Close</th>\n",
       "      <th>Volume</th>\n",
       "      <th>Adj Close</th>\n",
       "    </tr>\n",
       "    <tr>\n",
       "      <th>Date</th>\n",
       "      <th></th>\n",
       "      <th></th>\n",
       "      <th></th>\n",
       "      <th></th>\n",
       "      <th></th>\n",
       "      <th></th>\n",
       "    </tr>\n",
       "  </thead>\n",
       "  <tbody>\n",
       "    <tr>\n",
       "      <th>2017-09-05</th>\n",
       "      <td>23.699333</td>\n",
       "      <td>23.059334</td>\n",
       "      <td>23.586666</td>\n",
       "      <td>23.306000</td>\n",
       "      <td>57526500.0</td>\n",
       "      <td>23.306000</td>\n",
       "    </tr>\n",
       "    <tr>\n",
       "      <th>2017-09-06</th>\n",
       "      <td>23.398666</td>\n",
       "      <td>22.770666</td>\n",
       "      <td>23.299999</td>\n",
       "      <td>22.968666</td>\n",
       "      <td>61371000.0</td>\n",
       "      <td>22.968666</td>\n",
       "    </tr>\n",
       "    <tr>\n",
       "      <th>2017-09-07</th>\n",
       "      <td>23.498667</td>\n",
       "      <td>22.896667</td>\n",
       "      <td>23.065332</td>\n",
       "      <td>23.374001</td>\n",
       "      <td>63588000.0</td>\n",
       "      <td>23.374001</td>\n",
       "    </tr>\n",
       "    <tr>\n",
       "      <th>2017-09-08</th>\n",
       "      <td>23.318666</td>\n",
       "      <td>22.820000</td>\n",
       "      <td>23.266001</td>\n",
       "      <td>22.893333</td>\n",
       "      <td>48952500.0</td>\n",
       "      <td>22.893333</td>\n",
       "    </tr>\n",
       "    <tr>\n",
       "      <th>2017-09-11</th>\n",
       "      <td>24.247334</td>\n",
       "      <td>23.333332</td>\n",
       "      <td>23.423332</td>\n",
       "      <td>24.246000</td>\n",
       "      <td>115006500.0</td>\n",
       "      <td>24.246000</td>\n",
       "    </tr>\n",
       "  </tbody>\n",
       "</table>\n",
       "</div>"
      ],
      "text/plain": [
       "                 High        Low       Open      Close       Volume  Adj Close\n",
       "Date                                                                          \n",
       "2017-09-05  23.699333  23.059334  23.586666  23.306000   57526500.0  23.306000\n",
       "2017-09-06  23.398666  22.770666  23.299999  22.968666   61371000.0  22.968666\n",
       "2017-09-07  23.498667  22.896667  23.065332  23.374001   63588000.0  23.374001\n",
       "2017-09-08  23.318666  22.820000  23.266001  22.893333   48952500.0  22.893333\n",
       "2017-09-11  24.247334  23.333332  23.423332  24.246000  115006500.0  24.246000"
      ]
     },
     "execution_count": 6,
     "metadata": {},
     "output_type": "execute_result"
    }
   ],
   "source": [
    "df_tesla.head()"
   ]
  },
  {
   "cell_type": "code",
   "execution_count": 9,
   "id": "b1545d07",
   "metadata": {
    "scrolled": true
   },
   "outputs": [
    {
     "data": {
      "text/plain": [
       "<AxesSubplot:xlabel='Date'>"
      ]
     },
     "execution_count": 9,
     "metadata": {},
     "output_type": "execute_result"
    },
    {
     "data": {
      "image/png": "[encoded data removed]",
      "text/plain": [
       "<Figure size 864x288 with 1 Axes>"
      ]
     },
     "metadata": {
      "needs_background": "light"
     },
     "output_type": "display_data"
    }
   ],
   "source": [
    "df_tesla['High'].plot(figsize =(12,4))"
   ]
  },
  {
   "cell_type": "code",
   "execution_count": 10,
   "id": "4c27df2a",
   "metadata": {
    "scrolled": true
   },
   "outputs": [
    {
     "data": {
      "text/plain": [
       "<AxesSubplot:xlabel='Date'>"
      ]
     },
     "execution_count": 10,
     "metadata": {},
     "output_type": "execute_result"
    },
    {
     "data": {
      "image/png": "[encoded data removed]",
      "text/plain": [
       "<Figure size 864x288 with 1 Axes>"
      ]
     },
     "metadata": {
      "needs_background": "light"
     },
     "output_type": "display_data"
    }
   ],
   "source": [
    "## xlimit and ylimit\n",
    "\n",
    "df_tesla['High'].plot(xlim = ['2020-01-01','2021-09-01'],figsize =(12,4))"
   ]
  },
  {
   "cell_type": "code",
   "execution_count": 14,
   "id": "b4c2e535",
   "metadata": {},
   "outputs": [
    {
     "data": {
      "text/plain": [
       "<AxesSubplot:xlabel='Date'>"
      ]
     },
     "execution_count": 14,
     "metadata": {},
     "output_type": "execute_result"
    },
    {
     "data": {
      "image/png": "[encoded data removed]",
      "text/plain": [
       "<Figure size 864x288 with 1 Axes>"
      ]
     },
     "metadata": {
      "needs_background": "light"
     },
     "output_type": "display_data"
    }
   ],
   "source": [
    "df_tesla['High'].plot(xlim = ['2020-01-01','2021-09-01'],ylim = [0,900],figsize =(12,4),ls='--',c = 'green')"
   ]
  },
  {
   "cell_type": "code",
   "execution_count": 17,
   "id": "70fcf014",
   "metadata": {},
   "outputs": [
    {
     "data": {
      "text/plain": [
       "DatetimeIndex(['2017-09-05', '2017-09-06', '2017-09-07', '2017-09-08',\n",
       "               '2017-09-11', '2017-09-12', '2017-09-13', '2017-09-14',\n",
       "               '2017-09-15', '2017-09-18',\n",
       "               ...\n",
       "               '2022-08-22', '2022-08-23', '2022-08-24', '2022-08-25',\n",
       "               '2022-08-26', '2022-08-29', '2022-08-30', '2022-08-31',\n",
       "               '2022-09-01', '2022-09-02'],\n",
       "              dtype='datetime64[ns]', name='Date', length=1259, freq=None)"
      ]
     },
     "execution_count": 17,
     "metadata": {},
     "output_type": "execute_result"
    }
   ],
   "source": [
    "df_tesla.index"
   ]
  },
  {
   "cell_type": "code",
   "execution_count": 18,
   "id": "28f6b835",
   "metadata": {},
   "outputs": [
    {
     "data": {
      "text/html": [
       "<div>\n",
       "<style scoped>\n",
       "    .dataframe tbody tr th:only-of-type {\n",
       "        vertical-align: middle;\n",
       "    }\n",
       "\n",
       "    .dataframe tbody tr th {\n",
       "        vertical-align: top;\n",
       "    }\n",
       "\n",
       "    .dataframe thead th {\n",
       "        text-align: right;\n",
       "    }\n",
       "</style>\n",
       "<table border=\"1\" class=\"dataframe\">\n",
       "  <thead>\n",
       "    <tr style=\"text-align: right;\">\n",
       "      <th></th>\n",
       "      <th>High</th>\n",
       "      <th>Low</th>\n",
       "      <th>Open</th>\n",
       "      <th>Close</th>\n",
       "      <th>Volume</th>\n",
       "      <th>Adj Close</th>\n",
       "    </tr>\n",
       "    <tr>\n",
       "      <th>Date</th>\n",
       "      <th></th>\n",
       "      <th></th>\n",
       "      <th></th>\n",
       "      <th></th>\n",
       "      <th></th>\n",
       "      <th></th>\n",
       "    </tr>\n",
       "  </thead>\n",
       "  <tbody>\n",
       "    <tr>\n",
       "      <th>2020-01-02</th>\n",
       "      <td>28.713333</td>\n",
       "      <td>28.114000</td>\n",
       "      <td>28.299999</td>\n",
       "      <td>28.684000</td>\n",
       "      <td>142981500.0</td>\n",
       "      <td>28.684000</td>\n",
       "    </tr>\n",
       "    <tr>\n",
       "      <th>2020-01-03</th>\n",
       "      <td>30.266666</td>\n",
       "      <td>29.128000</td>\n",
       "      <td>29.366667</td>\n",
       "      <td>29.534000</td>\n",
       "      <td>266677500.0</td>\n",
       "      <td>29.534000</td>\n",
       "    </tr>\n",
       "    <tr>\n",
       "      <th>2020-01-06</th>\n",
       "      <td>30.104000</td>\n",
       "      <td>29.333332</td>\n",
       "      <td>29.364668</td>\n",
       "      <td>30.102667</td>\n",
       "      <td>151995000.0</td>\n",
       "      <td>30.102667</td>\n",
       "    </tr>\n",
       "    <tr>\n",
       "      <th>2020-01-07</th>\n",
       "      <td>31.441999</td>\n",
       "      <td>30.224001</td>\n",
       "      <td>30.760000</td>\n",
       "      <td>31.270666</td>\n",
       "      <td>268231500.0</td>\n",
       "      <td>31.270666</td>\n",
       "    </tr>\n",
       "    <tr>\n",
       "      <th>2020-01-08</th>\n",
       "      <td>33.232666</td>\n",
       "      <td>31.215334</td>\n",
       "      <td>31.580000</td>\n",
       "      <td>32.809334</td>\n",
       "      <td>467164500.0</td>\n",
       "      <td>32.809334</td>\n",
       "    </tr>\n",
       "    <tr>\n",
       "      <th>...</th>\n",
       "      <td>...</td>\n",
       "      <td>...</td>\n",
       "      <td>...</td>\n",
       "      <td>...</td>\n",
       "      <td>...</td>\n",
       "      <td>...</td>\n",
       "    </tr>\n",
       "    <tr>\n",
       "      <th>2021-08-26</th>\n",
       "      <td>238.466660</td>\n",
       "      <td>232.539993</td>\n",
       "      <td>236.103333</td>\n",
       "      <td>233.720001</td>\n",
       "      <td>39642900.0</td>\n",
       "      <td>233.720001</td>\n",
       "    </tr>\n",
       "    <tr>\n",
       "      <th>2021-08-27</th>\n",
       "      <td>238.333328</td>\n",
       "      <td>234.033340</td>\n",
       "      <td>235.000000</td>\n",
       "      <td>237.306671</td>\n",
       "      <td>41501400.0</td>\n",
       "      <td>237.306671</td>\n",
       "    </tr>\n",
       "    <tr>\n",
       "      <th>2021-08-30</th>\n",
       "      <td>243.666672</td>\n",
       "      <td>237.576660</td>\n",
       "      <td>238.240005</td>\n",
       "      <td>243.636673</td>\n",
       "      <td>55812600.0</td>\n",
       "      <td>243.636673</td>\n",
       "    </tr>\n",
       "    <tr>\n",
       "      <th>2021-08-31</th>\n",
       "      <td>246.796661</td>\n",
       "      <td>242.146667</td>\n",
       "      <td>244.333328</td>\n",
       "      <td>245.240005</td>\n",
       "      <td>62566200.0</td>\n",
       "      <td>245.240005</td>\n",
       "    </tr>\n",
       "    <tr>\n",
       "      <th>2021-09-01</th>\n",
       "      <td>247.330002</td>\n",
       "      <td>243.756668</td>\n",
       "      <td>244.693329</td>\n",
       "      <td>244.696671</td>\n",
       "      <td>39612900.0</td>\n",
       "      <td>244.696671</td>\n",
       "    </tr>\n",
       "  </tbody>\n",
       "</table>\n",
       "<p>421 rows × 6 columns</p>\n",
       "</div>"
      ],
      "text/plain": [
       "                  High         Low        Open       Close       Volume  \\\n",
       "Date                                                                      \n",
       "2020-01-02   28.713333   28.114000   28.299999   28.684000  142981500.0   \n",
       "2020-01-03   30.266666   29.128000   29.366667   29.534000  266677500.0   \n",
       "2020-01-06   30.104000   29.333332   29.364668   30.102667  151995000.0   \n",
       "2020-01-07   31.441999   30.224001   30.760000   31.270666  268231500.0   \n",
       "2020-01-08   33.232666   31.215334   31.580000   32.809334  467164500.0   \n",
       "...                ...         ...         ...         ...          ...   \n",
       "2021-08-26  238.466660  232.539993  236.103333  233.720001   39642900.0   \n",
       "2021-08-27  238.333328  234.033340  235.000000  237.306671   41501400.0   \n",
       "2021-08-30  243.666672  237.576660  238.240005  243.636673   55812600.0   \n",
       "2021-08-31  246.796661  242.146667  244.333328  245.240005   62566200.0   \n",
       "2021-09-01  247.330002  243.756668  244.693329  244.696671   39612900.0   \n",
       "\n",
       "             Adj Close  \n",
       "Date                    \n",
       "2020-01-02   28.684000  \n",
       "2020-01-03   29.534000  \n",
       "2020-01-06   30.102667  \n",
       "2020-01-07   31.270666  \n",
       "2020-01-08   32.809334  \n",
       "...                ...  \n",
       "2021-08-26  233.720001  \n",
       "2021-08-27  237.306671  \n",
       "2021-08-30  243.636673  \n",
       "2021-08-31  245.240005  \n",
       "2021-09-01  244.696671  \n",
       "\n",
       "[421 rows x 6 columns]"
      ]
     },
     "execution_count": 18,
     "metadata": {},
     "output_type": "execute_result"
    }
   ],
   "source": [
    "df_tesla.loc['2020-01-01':'2021-09-01']"
   ]
  },
  {
   "cell_type": "code",
   "execution_count": 25,
   "id": "9668fd7c",
   "metadata": {},
   "outputs": [],
   "source": [
    "index = df_tesla.loc['2020-01-01':'2021-09-01'].index"
   ]
  },
  {
   "cell_type": "code",
   "execution_count": 26,
   "id": "0dd891fd",
   "metadata": {},
   "outputs": [],
   "source": [
    "Opening_price = df_tesla.loc['2020-01-01':'2021-09-01']['Open']"
   ]
  },
  {
   "cell_type": "code",
   "execution_count": 27,
   "id": "65b44989",
   "metadata": {},
   "outputs": [],
   "source": [
    "import matplotlib.pyplot as plt\n",
    "%matplotlib inline"
   ]
  },
  {
   "cell_type": "code",
   "execution_count": 28,
   "id": "a8125a2e",
   "metadata": {},
   "outputs": [
    {
     "data": {
      "text/plain": [
       "[<matplotlib.lines.Line2D at 0x2328a534490>]"
      ]
     },
     "execution_count": 28,
     "metadata": {},
     "output_type": "execute_result"
    },
    {
     "data": {
      "image/png": "[encoded data removed]",
      "text/plain": [
       "<Figure size 432x288 with 1 Axes>"
      ]
     },
     "metadata": {
      "needs_background": "light"
     },
     "output_type": "display_data"
    }
   ],
   "source": [
    "figure,axis=plt.subplots()\n",
    "plt.tight_layout()\n",
    "## to prevent overlapping\n",
    "figure.autofmt_xdate()\n",
    "\n",
    "axis.plot(index,Opening_price)"
   ]
  },
  {
   "cell_type": "code",
   "execution_count": 32,
   "id": "8ea7d9ff",
   "metadata": {},
   "outputs": [],
   "source": [
    "## Datetime Index\n",
    "df_tesla = df_tesla.reset_index()"
   ]
  },
  {
   "cell_type": "code",
   "execution_count": 33,
   "id": "50045e2e",
   "metadata": {},
   "outputs": [
    {
     "name": "stdout",
     "output_type": "stream",
     "text": [
      "<class 'pandas.core.frame.DataFrame'>\n",
      "RangeIndex: 1259 entries, 0 to 1258\n",
      "Data columns (total 7 columns):\n",
      " #   Column     Non-Null Count  Dtype         \n",
      "---  ------     --------------  -----         \n",
      " 0   Date       1259 non-null   datetime64[ns]\n",
      " 1   High       1259 non-null   float64       \n",
      " 2   Low        1259 non-null   float64       \n",
      " 3   Open       1259 non-null   float64       \n",
      " 4   Close      1259 non-null   float64       \n",
      " 5   Volume     1259 non-null   float64       \n",
      " 6   Adj Close  1259 non-null   float64       \n",
      "dtypes: datetime64[ns](1), float64(6)\n",
      "memory usage: 69.0 KB\n"
     ]
    }
   ],
   "source": [
    "df_tesla.info()"
   ]
  },
  {
   "cell_type": "code",
   "execution_count": 34,
   "id": "e498910f",
   "metadata": {},
   "outputs": [
    {
     "data": {
      "text/plain": [
       "0      2017-09-05\n",
       "1      2017-09-06\n",
       "2      2017-09-07\n",
       "3      2017-09-08\n",
       "4      2017-09-11\n",
       "          ...    \n",
       "1254   2022-08-29\n",
       "1255   2022-08-30\n",
       "1256   2022-08-31\n",
       "1257   2022-09-01\n",
       "1258   2022-09-02\n",
       "Name: Date, Length: 1259, dtype: datetime64[ns]"
      ]
     },
     "execution_count": 34,
     "metadata": {},
     "output_type": "execute_result"
    }
   ],
   "source": [
    "pd.to_datetime(df_tesla['Date'])"
   ]
  },
  {
   "cell_type": "code",
   "execution_count": 35,
   "id": "a61cc089",
   "metadata": {},
   "outputs": [
    {
     "data": {
      "text/html": [
       "<div>\n",
       "<style scoped>\n",
       "    .dataframe tbody tr th:only-of-type {\n",
       "        vertical-align: middle;\n",
       "    }\n",
       "\n",
       "    .dataframe tbody tr th {\n",
       "        vertical-align: top;\n",
       "    }\n",
       "\n",
       "    .dataframe thead th {\n",
       "        text-align: right;\n",
       "    }\n",
       "</style>\n",
       "<table border=\"1\" class=\"dataframe\">\n",
       "  <thead>\n",
       "    <tr style=\"text-align: right;\">\n",
       "      <th></th>\n",
       "      <th>Date</th>\n",
       "      <th>High</th>\n",
       "      <th>Low</th>\n",
       "      <th>Open</th>\n",
       "      <th>Close</th>\n",
       "      <th>Volume</th>\n",
       "      <th>Adj Close</th>\n",
       "    </tr>\n",
       "  </thead>\n",
       "  <tbody>\n",
       "    <tr>\n",
       "      <th>0</th>\n",
       "      <td>2017-09-05</td>\n",
       "      <td>23.699333</td>\n",
       "      <td>23.059334</td>\n",
       "      <td>23.586666</td>\n",
       "      <td>23.306000</td>\n",
       "      <td>57526500.0</td>\n",
       "      <td>23.306000</td>\n",
       "    </tr>\n",
       "    <tr>\n",
       "      <th>1</th>\n",
       "      <td>2017-09-06</td>\n",
       "      <td>23.398666</td>\n",
       "      <td>22.770666</td>\n",
       "      <td>23.299999</td>\n",
       "      <td>22.968666</td>\n",
       "      <td>61371000.0</td>\n",
       "      <td>22.968666</td>\n",
       "    </tr>\n",
       "    <tr>\n",
       "      <th>2</th>\n",
       "      <td>2017-09-07</td>\n",
       "      <td>23.498667</td>\n",
       "      <td>22.896667</td>\n",
       "      <td>23.065332</td>\n",
       "      <td>23.374001</td>\n",
       "      <td>63588000.0</td>\n",
       "      <td>23.374001</td>\n",
       "    </tr>\n",
       "    <tr>\n",
       "      <th>3</th>\n",
       "      <td>2017-09-08</td>\n",
       "      <td>23.318666</td>\n",
       "      <td>22.820000</td>\n",
       "      <td>23.266001</td>\n",
       "      <td>22.893333</td>\n",
       "      <td>48952500.0</td>\n",
       "      <td>22.893333</td>\n",
       "    </tr>\n",
       "    <tr>\n",
       "      <th>4</th>\n",
       "      <td>2017-09-11</td>\n",
       "      <td>24.247334</td>\n",
       "      <td>23.333332</td>\n",
       "      <td>23.423332</td>\n",
       "      <td>24.246000</td>\n",
       "      <td>115006500.0</td>\n",
       "      <td>24.246000</td>\n",
       "    </tr>\n",
       "    <tr>\n",
       "      <th>...</th>\n",
       "      <td>...</td>\n",
       "      <td>...</td>\n",
       "      <td>...</td>\n",
       "      <td>...</td>\n",
       "      <td>...</td>\n",
       "      <td>...</td>\n",
       "      <td>...</td>\n",
       "    </tr>\n",
       "    <tr>\n",
       "      <th>1254</th>\n",
       "      <td>2022-08-29</td>\n",
       "      <td>287.739990</td>\n",
       "      <td>280.700012</td>\n",
       "      <td>282.829987</td>\n",
       "      <td>284.820007</td>\n",
       "      <td>41864700.0</td>\n",
       "      <td>284.820007</td>\n",
       "    </tr>\n",
       "    <tr>\n",
       "      <th>1255</th>\n",
       "      <td>2022-08-30</td>\n",
       "      <td>288.480011</td>\n",
       "      <td>272.649994</td>\n",
       "      <td>287.869995</td>\n",
       "      <td>277.700012</td>\n",
       "      <td>50541800.0</td>\n",
       "      <td>277.700012</td>\n",
       "    </tr>\n",
       "    <tr>\n",
       "      <th>1256</th>\n",
       "      <td>2022-08-31</td>\n",
       "      <td>281.250000</td>\n",
       "      <td>271.809998</td>\n",
       "      <td>280.619995</td>\n",
       "      <td>275.609985</td>\n",
       "      <td>52107300.0</td>\n",
       "      <td>275.609985</td>\n",
       "    </tr>\n",
       "    <tr>\n",
       "      <th>1257</th>\n",
       "      <td>2022-09-01</td>\n",
       "      <td>277.579987</td>\n",
       "      <td>266.149994</td>\n",
       "      <td>272.579987</td>\n",
       "      <td>277.160004</td>\n",
       "      <td>54287000.0</td>\n",
       "      <td>277.160004</td>\n",
       "    </tr>\n",
       "    <tr>\n",
       "      <th>1258</th>\n",
       "      <td>2022-09-02</td>\n",
       "      <td>282.350006</td>\n",
       "      <td>269.079987</td>\n",
       "      <td>281.070007</td>\n",
       "      <td>270.209991</td>\n",
       "      <td>50752200.0</td>\n",
       "      <td>270.209991</td>\n",
       "    </tr>\n",
       "  </tbody>\n",
       "</table>\n",
       "<p>1259 rows × 7 columns</p>\n",
       "</div>"
      ],
      "text/plain": [
       "           Date        High         Low        Open       Close       Volume  \\\n",
       "0    2017-09-05   23.699333   23.059334   23.586666   23.306000   57526500.0   \n",
       "1    2017-09-06   23.398666   22.770666   23.299999   22.968666   61371000.0   \n",
       "2    2017-09-07   23.498667   22.896667   23.065332   23.374001   63588000.0   \n",
       "3    2017-09-08   23.318666   22.820000   23.266001   22.893333   48952500.0   \n",
       "4    2017-09-11   24.247334   23.333332   23.423332   24.246000  115006500.0   \n",
       "...         ...         ...         ...         ...         ...          ...   \n",
       "1254 2022-08-29  287.739990  280.700012  282.829987  284.820007   41864700.0   \n",
       "1255 2022-08-30  288.480011  272.649994  287.869995  277.700012   50541800.0   \n",
       "1256 2022-08-31  281.250000  271.809998  280.619995  275.609985   52107300.0   \n",
       "1257 2022-09-01  277.579987  266.149994  272.579987  277.160004   54287000.0   \n",
       "1258 2022-09-02  282.350006  269.079987  281.070007  270.209991   50752200.0   \n",
       "\n",
       "       Adj Close  \n",
       "0      23.306000  \n",
       "1      22.968666  \n",
       "2      23.374001  \n",
       "3      22.893333  \n",
       "4      24.246000  \n",
       "...          ...  \n",
       "1254  284.820007  \n",
       "1255  277.700012  \n",
       "1256  275.609985  \n",
       "1257  277.160004  \n",
       "1258  270.209991  \n",
       "\n",
       "[1259 rows x 7 columns]"
      ]
     },
     "execution_count": 35,
     "metadata": {},
     "output_type": "execute_result"
    }
   ],
   "source": [
    "df_tesla"
   ]
  },
  {
   "cell_type": "code",
   "execution_count": 39,
   "id": "e27ab381",
   "metadata": {},
   "outputs": [],
   "source": [
    "df_tesla = df_tesla.set_index('Date',drop = True)"
   ]
  },
  {
   "cell_type": "code",
   "execution_count": 40,
   "id": "11091c6a",
   "metadata": {},
   "outputs": [
    {
     "data": {
      "text/html": [
       "<div>\n",
       "<style scoped>\n",
       "    .dataframe tbody tr th:only-of-type {\n",
       "        vertical-align: middle;\n",
       "    }\n",
       "\n",
       "    .dataframe tbody tr th {\n",
       "        vertical-align: top;\n",
       "    }\n",
       "\n",
       "    .dataframe thead th {\n",
       "        text-align: right;\n",
       "    }\n",
       "</style>\n",
       "<table border=\"1\" class=\"dataframe\">\n",
       "  <thead>\n",
       "    <tr style=\"text-align: right;\">\n",
       "      <th></th>\n",
       "      <th>High</th>\n",
       "      <th>Low</th>\n",
       "      <th>Open</th>\n",
       "      <th>Close</th>\n",
       "      <th>Volume</th>\n",
       "      <th>Adj Close</th>\n",
       "    </tr>\n",
       "    <tr>\n",
       "      <th>Date</th>\n",
       "      <th></th>\n",
       "      <th></th>\n",
       "      <th></th>\n",
       "      <th></th>\n",
       "      <th></th>\n",
       "      <th></th>\n",
       "    </tr>\n",
       "  </thead>\n",
       "  <tbody>\n",
       "    <tr>\n",
       "      <th>2017-09-05</th>\n",
       "      <td>23.699333</td>\n",
       "      <td>23.059334</td>\n",
       "      <td>23.586666</td>\n",
       "      <td>23.306000</td>\n",
       "      <td>57526500.0</td>\n",
       "      <td>23.306000</td>\n",
       "    </tr>\n",
       "    <tr>\n",
       "      <th>2017-09-06</th>\n",
       "      <td>23.398666</td>\n",
       "      <td>22.770666</td>\n",
       "      <td>23.299999</td>\n",
       "      <td>22.968666</td>\n",
       "      <td>61371000.0</td>\n",
       "      <td>22.968666</td>\n",
       "    </tr>\n",
       "    <tr>\n",
       "      <th>2017-09-07</th>\n",
       "      <td>23.498667</td>\n",
       "      <td>22.896667</td>\n",
       "      <td>23.065332</td>\n",
       "      <td>23.374001</td>\n",
       "      <td>63588000.0</td>\n",
       "      <td>23.374001</td>\n",
       "    </tr>\n",
       "    <tr>\n",
       "      <th>2017-09-08</th>\n",
       "      <td>23.318666</td>\n",
       "      <td>22.820000</td>\n",
       "      <td>23.266001</td>\n",
       "      <td>22.893333</td>\n",
       "      <td>48952500.0</td>\n",
       "      <td>22.893333</td>\n",
       "    </tr>\n",
       "    <tr>\n",
       "      <th>2017-09-11</th>\n",
       "      <td>24.247334</td>\n",
       "      <td>23.333332</td>\n",
       "      <td>23.423332</td>\n",
       "      <td>24.246000</td>\n",
       "      <td>115006500.0</td>\n",
       "      <td>24.246000</td>\n",
       "    </tr>\n",
       "  </tbody>\n",
       "</table>\n",
       "</div>"
      ],
      "text/plain": [
       "                 High        Low       Open      Close       Volume  Adj Close\n",
       "Date                                                                          \n",
       "2017-09-05  23.699333  23.059334  23.586666  23.306000   57526500.0  23.306000\n",
       "2017-09-06  23.398666  22.770666  23.299999  22.968666   61371000.0  22.968666\n",
       "2017-09-07  23.498667  22.896667  23.065332  23.374001   63588000.0  23.374001\n",
       "2017-09-08  23.318666  22.820000  23.266001  22.893333   48952500.0  22.893333\n",
       "2017-09-11  24.247334  23.333332  23.423332  24.246000  115006500.0  24.246000"
      ]
     },
     "execution_count": 40,
     "metadata": {},
     "output_type": "execute_result"
    }
   ],
   "source": [
    "df_tesla.head()"
   ]
  },
  {
   "cell_type": "code",
   "execution_count": 41,
   "id": "342a78b0",
   "metadata": {},
   "outputs": [],
   "source": [
    "## Datetime\n",
    "from datetime import datetime"
   ]
  },
  {
   "cell_type": "code",
   "execution_count": 45,
   "id": "138f391e",
   "metadata": {},
   "outputs": [],
   "source": [
    "date = datetime(2021,11,21)"
   ]
  },
  {
   "cell_type": "code",
   "execution_count": 46,
   "id": "a70d070a",
   "metadata": {},
   "outputs": [
    {
     "data": {
      "text/plain": [
       "datetime.datetime(2022, 9, 3, 15, 52, 20, 289616)"
      ]
     },
     "execution_count": 46,
     "metadata": {},
     "output_type": "execute_result"
    }
   ],
   "source": [
    "datetime.now() ##present"
   ]
  },
  {
   "cell_type": "code",
   "execution_count": 47,
   "id": "48d15948",
   "metadata": {},
   "outputs": [
    {
     "data": {
      "text/plain": [
       "datetime.date(2021, 11, 21)"
      ]
     },
     "execution_count": 47,
     "metadata": {},
     "output_type": "execute_result"
    }
   ],
   "source": [
    "date.date()"
   ]
  },
  {
   "cell_type": "code",
   "execution_count": 48,
   "id": "0d4f0ecd",
   "metadata": {},
   "outputs": [
    {
     "data": {
      "text/plain": [
       "21"
      ]
     },
     "execution_count": 48,
     "metadata": {},
     "output_type": "execute_result"
    }
   ],
   "source": [
    "date.day"
   ]
  },
  {
   "cell_type": "code",
   "execution_count": 50,
   "id": "b4f4c6cf",
   "metadata": {},
   "outputs": [
    {
     "data": {
      "text/plain": [
       "6"
      ]
     },
     "execution_count": 50,
     "metadata": {},
     "output_type": "execute_result"
    }
   ],
   "source": [
    "date.weekday() ## 1-7 monday-sunday"
   ]
  },
  {
   "cell_type": "code",
   "execution_count": 51,
   "id": "afa0a149",
   "metadata": {},
   "outputs": [
    {
     "data": {
      "text/plain": [
       "2021"
      ]
     },
     "execution_count": 51,
     "metadata": {},
     "output_type": "execute_result"
    }
   ],
   "source": [
    "date.year"
   ]
  },
  {
   "cell_type": "code",
   "execution_count": 52,
   "id": "83a39aad",
   "metadata": {},
   "outputs": [
    {
     "data": {
      "text/plain": [
       "0"
      ]
     },
     "execution_count": 52,
     "metadata": {},
     "output_type": "execute_result"
    }
   ],
   "source": [
    "date.hour"
   ]
  },
  {
   "cell_type": "code",
   "execution_count": 53,
   "id": "54091e39",
   "metadata": {},
   "outputs": [
    {
     "data": {
      "text/plain": [
       "11"
      ]
     },
     "execution_count": 53,
     "metadata": {},
     "output_type": "execute_result"
    }
   ],
   "source": [
    "date.month"
   ]
  },
  {
   "cell_type": "markdown",
   "id": "ff111cec",
   "metadata": {},
   "source": [
    "## Time Resampling\n"
   ]
  },
  {
   "cell_type": "code",
   "execution_count": 54,
   "id": "aa67986b",
   "metadata": {},
   "outputs": [
    {
     "data": {
      "text/html": [
       "<div>\n",
       "<style scoped>\n",
       "    .dataframe tbody tr th:only-of-type {\n",
       "        vertical-align: middle;\n",
       "    }\n",
       "\n",
       "    .dataframe tbody tr th {\n",
       "        vertical-align: top;\n",
       "    }\n",
       "\n",
       "    .dataframe thead th {\n",
       "        text-align: right;\n",
       "    }\n",
       "</style>\n",
       "<table border=\"1\" class=\"dataframe\">\n",
       "  <thead>\n",
       "    <tr style=\"text-align: right;\">\n",
       "      <th></th>\n",
       "      <th>High</th>\n",
       "      <th>Low</th>\n",
       "      <th>Open</th>\n",
       "      <th>Close</th>\n",
       "      <th>Volume</th>\n",
       "      <th>Adj Close</th>\n",
       "    </tr>\n",
       "    <tr>\n",
       "      <th>Date</th>\n",
       "      <th></th>\n",
       "      <th></th>\n",
       "      <th></th>\n",
       "      <th></th>\n",
       "      <th></th>\n",
       "      <th></th>\n",
       "    </tr>\n",
       "  </thead>\n",
       "  <tbody>\n",
       "    <tr>\n",
       "      <th>2017-09-05</th>\n",
       "      <td>23.699333</td>\n",
       "      <td>23.059334</td>\n",
       "      <td>23.586666</td>\n",
       "      <td>23.306000</td>\n",
       "      <td>57526500.0</td>\n",
       "      <td>23.306000</td>\n",
       "    </tr>\n",
       "    <tr>\n",
       "      <th>2017-09-06</th>\n",
       "      <td>23.398666</td>\n",
       "      <td>22.770666</td>\n",
       "      <td>23.299999</td>\n",
       "      <td>22.968666</td>\n",
       "      <td>61371000.0</td>\n",
       "      <td>22.968666</td>\n",
       "    </tr>\n",
       "    <tr>\n",
       "      <th>2017-09-07</th>\n",
       "      <td>23.498667</td>\n",
       "      <td>22.896667</td>\n",
       "      <td>23.065332</td>\n",
       "      <td>23.374001</td>\n",
       "      <td>63588000.0</td>\n",
       "      <td>23.374001</td>\n",
       "    </tr>\n",
       "    <tr>\n",
       "      <th>2017-09-08</th>\n",
       "      <td>23.318666</td>\n",
       "      <td>22.820000</td>\n",
       "      <td>23.266001</td>\n",
       "      <td>22.893333</td>\n",
       "      <td>48952500.0</td>\n",
       "      <td>22.893333</td>\n",
       "    </tr>\n",
       "    <tr>\n",
       "      <th>2017-09-11</th>\n",
       "      <td>24.247334</td>\n",
       "      <td>23.333332</td>\n",
       "      <td>23.423332</td>\n",
       "      <td>24.246000</td>\n",
       "      <td>115006500.0</td>\n",
       "      <td>24.246000</td>\n",
       "    </tr>\n",
       "  </tbody>\n",
       "</table>\n",
       "</div>"
      ],
      "text/plain": [
       "                 High        Low       Open      Close       Volume  Adj Close\n",
       "Date                                                                          \n",
       "2017-09-05  23.699333  23.059334  23.586666  23.306000   57526500.0  23.306000\n",
       "2017-09-06  23.398666  22.770666  23.299999  22.968666   61371000.0  22.968666\n",
       "2017-09-07  23.498667  22.896667  23.065332  23.374001   63588000.0  23.374001\n",
       "2017-09-08  23.318666  22.820000  23.266001  22.893333   48952500.0  22.893333\n",
       "2017-09-11  24.247334  23.333332  23.423332  24.246000  115006500.0  24.246000"
      ]
     },
     "execution_count": 54,
     "metadata": {},
     "output_type": "execute_result"
    }
   ],
   "source": [
    "df_tesla.head()"
   ]
  },
  {
   "cell_type": "code",
   "execution_count": 57,
   "id": "f6f413ae",
   "metadata": {},
   "outputs": [
    {
     "data": {
      "text/html": [
       "<div>\n",
       "<style scoped>\n",
       "    .dataframe tbody tr th:only-of-type {\n",
       "        vertical-align: middle;\n",
       "    }\n",
       "\n",
       "    .dataframe tbody tr th {\n",
       "        vertical-align: top;\n",
       "    }\n",
       "\n",
       "    .dataframe thead th {\n",
       "        text-align: right;\n",
       "    }\n",
       "</style>\n",
       "<table border=\"1\" class=\"dataframe\">\n",
       "  <thead>\n",
       "    <tr style=\"text-align: right;\">\n",
       "      <th></th>\n",
       "      <th>High</th>\n",
       "      <th>Low</th>\n",
       "      <th>Open</th>\n",
       "      <th>Close</th>\n",
       "      <th>Volume</th>\n",
       "      <th>Adj Close</th>\n",
       "    </tr>\n",
       "    <tr>\n",
       "      <th>Date</th>\n",
       "      <th></th>\n",
       "      <th></th>\n",
       "      <th></th>\n",
       "      <th></th>\n",
       "      <th></th>\n",
       "      <th></th>\n",
       "    </tr>\n",
       "  </thead>\n",
       "  <tbody>\n",
       "    <tr>\n",
       "      <th>2017-12-31</th>\n",
       "      <td>20.297333</td>\n",
       "      <td>19.508667</td>\n",
       "      <td>19.966667</td>\n",
       "      <td>19.950666</td>\n",
       "      <td>48661500.0</td>\n",
       "      <td>19.950666</td>\n",
       "    </tr>\n",
       "    <tr>\n",
       "      <th>2018-12-31</th>\n",
       "      <td>17.355333</td>\n",
       "      <td>16.306000</td>\n",
       "      <td>16.851999</td>\n",
       "      <td>16.704000</td>\n",
       "      <td>46210500.0</td>\n",
       "      <td>16.704000</td>\n",
       "    </tr>\n",
       "    <tr>\n",
       "      <th>2019-12-31</th>\n",
       "      <td>12.445333</td>\n",
       "      <td>11.799333</td>\n",
       "      <td>12.073333</td>\n",
       "      <td>11.931333</td>\n",
       "      <td>36984000.0</td>\n",
       "      <td>11.931333</td>\n",
       "    </tr>\n",
       "    <tr>\n",
       "      <th>2020-12-31</th>\n",
       "      <td>26.990667</td>\n",
       "      <td>23.367332</td>\n",
       "      <td>24.980000</td>\n",
       "      <td>24.081333</td>\n",
       "      <td>52073100.0</td>\n",
       "      <td>24.081333</td>\n",
       "    </tr>\n",
       "    <tr>\n",
       "      <th>2021-12-31</th>\n",
       "      <td>188.736664</td>\n",
       "      <td>179.830002</td>\n",
       "      <td>184.183334</td>\n",
       "      <td>187.666672</td>\n",
       "      <td>29401800.0</td>\n",
       "      <td>187.666672</td>\n",
       "    </tr>\n",
       "    <tr>\n",
       "      <th>2022-12-31</th>\n",
       "      <td>217.973328</td>\n",
       "      <td>206.856674</td>\n",
       "      <td>207.949997</td>\n",
       "      <td>209.386673</td>\n",
       "      <td>41864700.0</td>\n",
       "      <td>209.386673</td>\n",
       "    </tr>\n",
       "  </tbody>\n",
       "</table>\n",
       "</div>"
      ],
      "text/plain": [
       "                  High         Low        Open       Close      Volume  \\\n",
       "Date                                                                     \n",
       "2017-12-31   20.297333   19.508667   19.966667   19.950666  48661500.0   \n",
       "2018-12-31   17.355333   16.306000   16.851999   16.704000  46210500.0   \n",
       "2019-12-31   12.445333   11.799333   12.073333   11.931333  36984000.0   \n",
       "2020-12-31   26.990667   23.367332   24.980000   24.081333  52073100.0   \n",
       "2021-12-31  188.736664  179.830002  184.183334  187.666672  29401800.0   \n",
       "2022-12-31  217.973328  206.856674  207.949997  209.386673  41864700.0   \n",
       "\n",
       "             Adj Close  \n",
       "Date                    \n",
       "2017-12-31   19.950666  \n",
       "2018-12-31   16.704000  \n",
       "2019-12-31   11.931333  \n",
       "2020-12-31   24.081333  \n",
       "2021-12-31  187.666672  \n",
       "2022-12-31  209.386673  "
      ]
     },
     "execution_count": 57,
     "metadata": {},
     "output_type": "execute_result"
    }
   ],
   "source": [
    "df_tesla.resample(rule = 'A').min()"
   ]
  },
  {
   "cell_type": "code",
   "execution_count": 59,
   "id": "41621dd5",
   "metadata": {},
   "outputs": [
    {
     "data": {
      "text/html": [
       "<div>\n",
       "<style scoped>\n",
       "    .dataframe tbody tr th:only-of-type {\n",
       "        vertical-align: middle;\n",
       "    }\n",
       "\n",
       "    .dataframe tbody tr th {\n",
       "        vertical-align: top;\n",
       "    }\n",
       "\n",
       "    .dataframe thead th {\n",
       "        text-align: right;\n",
       "    }\n",
       "</style>\n",
       "<table border=\"1\" class=\"dataframe\">\n",
       "  <thead>\n",
       "    <tr style=\"text-align: right;\">\n",
       "      <th></th>\n",
       "      <th>High</th>\n",
       "      <th>Low</th>\n",
       "      <th>Open</th>\n",
       "      <th>Close</th>\n",
       "      <th>Volume</th>\n",
       "      <th>Adj Close</th>\n",
       "    </tr>\n",
       "    <tr>\n",
       "      <th>Date</th>\n",
       "      <th></th>\n",
       "      <th></th>\n",
       "      <th></th>\n",
       "      <th></th>\n",
       "      <th></th>\n",
       "      <th></th>\n",
       "    </tr>\n",
       "  </thead>\n",
       "  <tbody>\n",
       "    <tr>\n",
       "      <th>2017-12-31</th>\n",
       "      <td>25.974001</td>\n",
       "      <td>25.178667</td>\n",
       "      <td>25.350000</td>\n",
       "      <td>25.666668</td>\n",
       "      <td>296871000.0</td>\n",
       "      <td>25.666668</td>\n",
       "    </tr>\n",
       "    <tr>\n",
       "      <th>2018-12-31</th>\n",
       "      <td>25.830667</td>\n",
       "      <td>24.474667</td>\n",
       "      <td>25.000000</td>\n",
       "      <td>25.304667</td>\n",
       "      <td>504745500.0</td>\n",
       "      <td>25.304667</td>\n",
       "    </tr>\n",
       "    <tr>\n",
       "      <th>2019-12-31</th>\n",
       "      <td>29.020666</td>\n",
       "      <td>28.423332</td>\n",
       "      <td>29.000000</td>\n",
       "      <td>28.729334</td>\n",
       "      <td>450091500.0</td>\n",
       "      <td>28.729334</td>\n",
       "    </tr>\n",
       "    <tr>\n",
       "      <th>2020-12-31</th>\n",
       "      <td>239.573334</td>\n",
       "      <td>230.373337</td>\n",
       "      <td>233.330002</td>\n",
       "      <td>235.223328</td>\n",
       "      <td>914082000.0</td>\n",
       "      <td>235.223328</td>\n",
       "    </tr>\n",
       "    <tr>\n",
       "      <th>2021-12-31</th>\n",
       "      <td>414.496674</td>\n",
       "      <td>405.666656</td>\n",
       "      <td>411.470001</td>\n",
       "      <td>409.970001</td>\n",
       "      <td>268189500.0</td>\n",
       "      <td>409.970001</td>\n",
       "    </tr>\n",
       "    <tr>\n",
       "      <th>2022-12-31</th>\n",
       "      <td>402.666656</td>\n",
       "      <td>378.679993</td>\n",
       "      <td>396.516663</td>\n",
       "      <td>399.926666</td>\n",
       "      <td>151565700.0</td>\n",
       "      <td>399.926666</td>\n",
       "    </tr>\n",
       "  </tbody>\n",
       "</table>\n",
       "</div>"
      ],
      "text/plain": [
       "                  High         Low        Open       Close       Volume  \\\n",
       "Date                                                                      \n",
       "2017-12-31   25.974001   25.178667   25.350000   25.666668  296871000.0   \n",
       "2018-12-31   25.830667   24.474667   25.000000   25.304667  504745500.0   \n",
       "2019-12-31   29.020666   28.423332   29.000000   28.729334  450091500.0   \n",
       "2020-12-31  239.573334  230.373337  233.330002  235.223328  914082000.0   \n",
       "2021-12-31  414.496674  405.666656  411.470001  409.970001  268189500.0   \n",
       "2022-12-31  402.666656  378.679993  396.516663  399.926666  151565700.0   \n",
       "\n",
       "             Adj Close  \n",
       "Date                    \n",
       "2017-12-31   25.666668  \n",
       "2018-12-31   25.304667  \n",
       "2019-12-31   28.729334  \n",
       "2020-12-31  235.223328  \n",
       "2021-12-31  409.970001  \n",
       "2022-12-31  399.926666  "
      ]
     },
     "execution_count": 59,
     "metadata": {},
     "output_type": "execute_result"
    }
   ],
   "source": [
    "df_tesla.resample(rule = 'A').max()"
   ]
  },
  {
   "cell_type": "code",
   "execution_count": 60,
   "id": "f6604af1",
   "metadata": {},
   "outputs": [
    {
     "data": {
      "text/plain": [
       "<AxesSubplot:xlabel='Date'>"
      ]
     },
     "execution_count": 60,
     "metadata": {},
     "output_type": "execute_result"
    },
    {
     "data": {
      "image/png": "[encoded data removed]",
      "text/plain": [
       "<Figure size 432x288 with 1 Axes>"
      ]
     },
     "metadata": {
      "needs_background": "light"
     },
     "output_type": "display_data"
    }
   ],
   "source": [
    "df_tesla.resample(rule = 'A').max()['Open'].plot()\n",
    "## here rule 'A' means year and frequeny"
   ]
  },
  {
   "cell_type": "code",
   "execution_count": 61,
   "id": "4228db0a",
   "metadata": {},
   "outputs": [
    {
     "data": {
      "text/plain": [
       "<AxesSubplot:xlabel='Date'>"
      ]
     },
     "execution_count": 61,
     "metadata": {},
     "output_type": "execute_result"
    },
    {
     "data": {
      "image/png": "[encoded data removed]",
      "text/plain": [
       "<Figure size 432x288 with 1 Axes>"
      ]
     },
     "metadata": {
      "needs_background": "light"
     },
     "output_type": "display_data"
    }
   ],
   "source": [
    "## for quarterly\n",
    "df_tesla.resample(rule = 'QS').max()['Open'].plot()"
   ]
  },
  {
   "cell_type": "code",
   "execution_count": 62,
   "id": "5f49416d",
   "metadata": {},
   "outputs": [
    {
     "data": {
      "text/plain": [
       "<AxesSubplot:xlabel='Date'>"
      ]
     },
     "execution_count": 62,
     "metadata": {},
     "output_type": "execute_result"
    },
    {
     "data": {
      "image/png": "[encoded data removed]",
      "text/plain": [
       "<Figure size 432x288 with 1 Axes>"
      ]
     },
     "metadata": {
      "needs_background": "light"
     },
     "output_type": "display_data"
    }
   ],
   "source": [
    "##bUSINESS and freqqnecy\n",
    "df_tesla.resample(rule = 'BA').max()['High'].plot()"
   ]
  },
  {
   "cell_type": "code",
   "execution_count": 65,
   "id": "4fb5df2c",
   "metadata": {},
   "outputs": [
    {
     "data": {
      "text/html": [
       "<div>\n",
       "<style scoped>\n",
       "    .dataframe tbody tr th:only-of-type {\n",
       "        vertical-align: middle;\n",
       "    }\n",
       "\n",
       "    .dataframe tbody tr th {\n",
       "        vertical-align: top;\n",
       "    }\n",
       "\n",
       "    .dataframe thead th {\n",
       "        text-align: right;\n",
       "    }\n",
       "</style>\n",
       "<table border=\"1\" class=\"dataframe\">\n",
       "  <thead>\n",
       "    <tr style=\"text-align: right;\">\n",
       "      <th></th>\n",
       "      <th>High</th>\n",
       "      <th>Low</th>\n",
       "      <th>Open</th>\n",
       "      <th>Close</th>\n",
       "      <th>Volume</th>\n",
       "      <th>Adj Close</th>\n",
       "    </tr>\n",
       "    <tr>\n",
       "      <th>Date</th>\n",
       "      <th></th>\n",
       "      <th></th>\n",
       "      <th></th>\n",
       "      <th></th>\n",
       "      <th></th>\n",
       "      <th></th>\n",
       "    </tr>\n",
       "  </thead>\n",
       "  <tbody>\n",
       "    <tr>\n",
       "      <th>2017-12-29</th>\n",
       "      <td>25.974001</td>\n",
       "      <td>25.178667</td>\n",
       "      <td>25.350000</td>\n",
       "      <td>25.666668</td>\n",
       "      <td>296871000.0</td>\n",
       "      <td>25.666668</td>\n",
       "    </tr>\n",
       "    <tr>\n",
       "      <th>2018-12-31</th>\n",
       "      <td>25.830667</td>\n",
       "      <td>24.474667</td>\n",
       "      <td>25.000000</td>\n",
       "      <td>25.304667</td>\n",
       "      <td>504745500.0</td>\n",
       "      <td>25.304667</td>\n",
       "    </tr>\n",
       "    <tr>\n",
       "      <th>2019-12-31</th>\n",
       "      <td>29.020666</td>\n",
       "      <td>28.423332</td>\n",
       "      <td>29.000000</td>\n",
       "      <td>28.729334</td>\n",
       "      <td>450091500.0</td>\n",
       "      <td>28.729334</td>\n",
       "    </tr>\n",
       "    <tr>\n",
       "      <th>2020-12-31</th>\n",
       "      <td>239.573334</td>\n",
       "      <td>230.373337</td>\n",
       "      <td>233.330002</td>\n",
       "      <td>235.223328</td>\n",
       "      <td>914082000.0</td>\n",
       "      <td>235.223328</td>\n",
       "    </tr>\n",
       "    <tr>\n",
       "      <th>2021-12-31</th>\n",
       "      <td>414.496674</td>\n",
       "      <td>405.666656</td>\n",
       "      <td>411.470001</td>\n",
       "      <td>409.970001</td>\n",
       "      <td>268189500.0</td>\n",
       "      <td>409.970001</td>\n",
       "    </tr>\n",
       "    <tr>\n",
       "      <th>2022-12-30</th>\n",
       "      <td>402.666656</td>\n",
       "      <td>378.679993</td>\n",
       "      <td>396.516663</td>\n",
       "      <td>399.926666</td>\n",
       "      <td>151565700.0</td>\n",
       "      <td>399.926666</td>\n",
       "    </tr>\n",
       "  </tbody>\n",
       "</table>\n",
       "</div>"
      ],
      "text/plain": [
       "                  High         Low        Open       Close       Volume  \\\n",
       "Date                                                                      \n",
       "2017-12-29   25.974001   25.178667   25.350000   25.666668  296871000.0   \n",
       "2018-12-31   25.830667   24.474667   25.000000   25.304667  504745500.0   \n",
       "2019-12-31   29.020666   28.423332   29.000000   28.729334  450091500.0   \n",
       "2020-12-31  239.573334  230.373337  233.330002  235.223328  914082000.0   \n",
       "2021-12-31  414.496674  405.666656  411.470001  409.970001  268189500.0   \n",
       "2022-12-30  402.666656  378.679993  396.516663  399.926666  151565700.0   \n",
       "\n",
       "             Adj Close  \n",
       "Date                    \n",
       "2017-12-29   25.666668  \n",
       "2018-12-31   25.304667  \n",
       "2019-12-31   28.729334  \n",
       "2020-12-31  235.223328  \n",
       "2021-12-31  409.970001  \n",
       "2022-12-30  399.926666  "
      ]
     },
     "execution_count": 65,
     "metadata": {},
     "output_type": "execute_result"
    }
   ],
   "source": [
    "df_tesla.resample(rule='BA').max()"
   ]
  },
  {
   "cell_type": "code",
   "execution_count": 66,
   "id": "d8af6748",
   "metadata": {},
   "outputs": [
    {
     "data": {
      "text/html": [
       "<div>\n",
       "<style scoped>\n",
       "    .dataframe tbody tr th:only-of-type {\n",
       "        vertical-align: middle;\n",
       "    }\n",
       "\n",
       "    .dataframe tbody tr th {\n",
       "        vertical-align: top;\n",
       "    }\n",
       "\n",
       "    .dataframe thead th {\n",
       "        text-align: right;\n",
       "    }\n",
       "</style>\n",
       "<table border=\"1\" class=\"dataframe\">\n",
       "  <thead>\n",
       "    <tr style=\"text-align: right;\">\n",
       "      <th></th>\n",
       "      <th>High</th>\n",
       "      <th>Low</th>\n",
       "      <th>Open</th>\n",
       "      <th>Close</th>\n",
       "      <th>Volume</th>\n",
       "      <th>Adj Close</th>\n",
       "    </tr>\n",
       "    <tr>\n",
       "      <th>Date</th>\n",
       "      <th></th>\n",
       "      <th></th>\n",
       "      <th></th>\n",
       "      <th></th>\n",
       "      <th></th>\n",
       "      <th></th>\n",
       "    </tr>\n",
       "  </thead>\n",
       "  <tbody>\n",
       "    <tr>\n",
       "      <th>2017-07-03</th>\n",
       "      <td>25.974001</td>\n",
       "      <td>25.178667</td>\n",
       "      <td>25.350000</td>\n",
       "      <td>25.666668</td>\n",
       "      <td>122391000.0</td>\n",
       "      <td>25.666668</td>\n",
       "    </tr>\n",
       "    <tr>\n",
       "      <th>2017-10-02</th>\n",
       "      <td>24.200001</td>\n",
       "      <td>23.608667</td>\n",
       "      <td>23.798668</td>\n",
       "      <td>23.976667</td>\n",
       "      <td>296871000.0</td>\n",
       "      <td>23.976667</td>\n",
       "    </tr>\n",
       "    <tr>\n",
       "      <th>2018-01-01</th>\n",
       "      <td>24.033333</td>\n",
       "      <td>23.490667</td>\n",
       "      <td>24.000000</td>\n",
       "      <td>23.827999</td>\n",
       "      <td>315021000.0</td>\n",
       "      <td>23.827999</td>\n",
       "    </tr>\n",
       "    <tr>\n",
       "      <th>2018-04-02</th>\n",
       "      <td>24.915333</td>\n",
       "      <td>23.633333</td>\n",
       "      <td>24.344000</td>\n",
       "      <td>24.722000</td>\n",
       "      <td>335211000.0</td>\n",
       "      <td>24.722000</td>\n",
       "    </tr>\n",
       "    <tr>\n",
       "      <th>2018-07-02</th>\n",
       "      <td>25.830667</td>\n",
       "      <td>24.474667</td>\n",
       "      <td>24.606001</td>\n",
       "      <td>25.304667</td>\n",
       "      <td>504745500.0</td>\n",
       "      <td>25.304667</td>\n",
       "    </tr>\n",
       "    <tr>\n",
       "      <th>2018-10-01</th>\n",
       "      <td>25.299334</td>\n",
       "      <td>24.450001</td>\n",
       "      <td>25.000000</td>\n",
       "      <td>25.119333</td>\n",
       "      <td>411382500.0</td>\n",
       "      <td>25.119333</td>\n",
       "    </tr>\n",
       "    <tr>\n",
       "      <th>2019-01-01</th>\n",
       "      <td>23.466667</td>\n",
       "      <td>22.943333</td>\n",
       "      <td>23.080667</td>\n",
       "      <td>23.153999</td>\n",
       "      <td>362262000.0</td>\n",
       "      <td>23.153999</td>\n",
       "    </tr>\n",
       "    <tr>\n",
       "      <th>2019-04-01</th>\n",
       "      <td>19.744667</td>\n",
       "      <td>19.144667</td>\n",
       "      <td>19.219999</td>\n",
       "      <td>19.454000</td>\n",
       "      <td>398206500.0</td>\n",
       "      <td>19.454000</td>\n",
       "    </tr>\n",
       "    <tr>\n",
       "      <th>2019-07-01</th>\n",
       "      <td>17.738001</td>\n",
       "      <td>17.210667</td>\n",
       "      <td>17.278000</td>\n",
       "      <td>17.658667</td>\n",
       "      <td>336274500.0</td>\n",
       "      <td>17.658667</td>\n",
       "    </tr>\n",
       "    <tr>\n",
       "      <th>2019-10-01</th>\n",
       "      <td>29.020666</td>\n",
       "      <td>28.423332</td>\n",
       "      <td>29.000000</td>\n",
       "      <td>28.729334</td>\n",
       "      <td>450091500.0</td>\n",
       "      <td>28.729334</td>\n",
       "    </tr>\n",
       "    <tr>\n",
       "      <th>2020-01-01</th>\n",
       "      <td>64.599335</td>\n",
       "      <td>60.068001</td>\n",
       "      <td>61.566666</td>\n",
       "      <td>61.161331</td>\n",
       "      <td>914082000.0</td>\n",
       "      <td>61.161331</td>\n",
       "    </tr>\n",
       "    <tr>\n",
       "      <th>2020-04-01</th>\n",
       "      <td>72.512665</td>\n",
       "      <td>66.915337</td>\n",
       "      <td>67.518669</td>\n",
       "      <td>71.987335</td>\n",
       "      <td>487977000.0</td>\n",
       "      <td>71.987335</td>\n",
       "    </tr>\n",
       "    <tr>\n",
       "      <th>2020-07-01</th>\n",
       "      <td>167.496674</td>\n",
       "      <td>156.836670</td>\n",
       "      <td>167.380005</td>\n",
       "      <td>166.106674</td>\n",
       "      <td>584781000.0</td>\n",
       "      <td>166.106674</td>\n",
       "    </tr>\n",
       "    <tr>\n",
       "      <th>2020-10-01</th>\n",
       "      <td>239.573334</td>\n",
       "      <td>230.373337</td>\n",
       "      <td>233.330002</td>\n",
       "      <td>235.223328</td>\n",
       "      <td>666378600.0</td>\n",
       "      <td>235.223328</td>\n",
       "    </tr>\n",
       "    <tr>\n",
       "      <th>2021-01-01</th>\n",
       "      <td>300.133331</td>\n",
       "      <td>290.533325</td>\n",
       "      <td>297.126678</td>\n",
       "      <td>294.363342</td>\n",
       "      <td>268189500.0</td>\n",
       "      <td>294.363342</td>\n",
       "    </tr>\n",
       "    <tr>\n",
       "      <th>2021-04-01</th>\n",
       "      <td>260.263336</td>\n",
       "      <td>244.203339</td>\n",
       "      <td>256.899994</td>\n",
       "      <td>254.106674</td>\n",
       "      <td>147052200.0</td>\n",
       "      <td>254.106674</td>\n",
       "    </tr>\n",
       "    <tr>\n",
       "      <th>2021-07-01</th>\n",
       "      <td>266.333344</td>\n",
       "      <td>258.333344</td>\n",
       "      <td>262.399994</td>\n",
       "      <td>263.786682</td>\n",
       "      <td>100847400.0</td>\n",
       "      <td>263.786682</td>\n",
       "    </tr>\n",
       "    <tr>\n",
       "      <th>2021-10-01</th>\n",
       "      <td>414.496674</td>\n",
       "      <td>405.666656</td>\n",
       "      <td>411.470001</td>\n",
       "      <td>409.970001</td>\n",
       "      <td>188556300.0</td>\n",
       "      <td>409.970001</td>\n",
       "    </tr>\n",
       "    <tr>\n",
       "      <th>2022-01-03</th>\n",
       "      <td>402.666656</td>\n",
       "      <td>378.679993</td>\n",
       "      <td>396.516663</td>\n",
       "      <td>399.926666</td>\n",
       "      <td>151565700.0</td>\n",
       "      <td>399.926666</td>\n",
       "    </tr>\n",
       "    <tr>\n",
       "      <th>2022-04-01</th>\n",
       "      <td>384.290009</td>\n",
       "      <td>362.433319</td>\n",
       "      <td>378.766663</td>\n",
       "      <td>381.816681</td>\n",
       "      <td>144973200.0</td>\n",
       "      <td>381.816681</td>\n",
       "    </tr>\n",
       "    <tr>\n",
       "      <th>2022-07-01</th>\n",
       "      <td>314.666656</td>\n",
       "      <td>305.000000</td>\n",
       "      <td>311.666656</td>\n",
       "      <td>309.320007</td>\n",
       "      <td>142032300.0</td>\n",
       "      <td>309.320007</td>\n",
       "    </tr>\n",
       "  </tbody>\n",
       "</table>\n",
       "</div>"
      ],
      "text/plain": [
       "                  High         Low        Open       Close       Volume  \\\n",
       "Date                                                                      \n",
       "2017-07-03   25.974001   25.178667   25.350000   25.666668  122391000.0   \n",
       "2017-10-02   24.200001   23.608667   23.798668   23.976667  296871000.0   \n",
       "2018-01-01   24.033333   23.490667   24.000000   23.827999  315021000.0   \n",
       "2018-04-02   24.915333   23.633333   24.344000   24.722000  335211000.0   \n",
       "2018-07-02   25.830667   24.474667   24.606001   25.304667  504745500.0   \n",
       "2018-10-01   25.299334   24.450001   25.000000   25.119333  411382500.0   \n",
       "2019-01-01   23.466667   22.943333   23.080667   23.153999  362262000.0   \n",
       "2019-04-01   19.744667   19.144667   19.219999   19.454000  398206500.0   \n",
       "2019-07-01   17.738001   17.210667   17.278000   17.658667  336274500.0   \n",
       "2019-10-01   29.020666   28.423332   29.000000   28.729334  450091500.0   \n",
       "2020-01-01   64.599335   60.068001   61.566666   61.161331  914082000.0   \n",
       "2020-04-01   72.512665   66.915337   67.518669   71.987335  487977000.0   \n",
       "2020-07-01  167.496674  156.836670  167.380005  166.106674  584781000.0   \n",
       "2020-10-01  239.573334  230.373337  233.330002  235.223328  666378600.0   \n",
       "2021-01-01  300.133331  290.533325  297.126678  294.363342  268189500.0   \n",
       "2021-04-01  260.263336  244.203339  256.899994  254.106674  147052200.0   \n",
       "2021-07-01  266.333344  258.333344  262.399994  263.786682  100847400.0   \n",
       "2021-10-01  414.496674  405.666656  411.470001  409.970001  188556300.0   \n",
       "2022-01-03  402.666656  378.679993  396.516663  399.926666  151565700.0   \n",
       "2022-04-01  384.290009  362.433319  378.766663  381.816681  144973200.0   \n",
       "2022-07-01  314.666656  305.000000  311.666656  309.320007  142032300.0   \n",
       "\n",
       "             Adj Close  \n",
       "Date                    \n",
       "2017-07-03   25.666668  \n",
       "2017-10-02   23.976667  \n",
       "2018-01-01   23.827999  \n",
       "2018-04-02   24.722000  \n",
       "2018-07-02   25.304667  \n",
       "2018-10-01   25.119333  \n",
       "2019-01-01   23.153999  \n",
       "2019-04-01   19.454000  \n",
       "2019-07-01   17.658667  \n",
       "2019-10-01   28.729334  \n",
       "2020-01-01   61.161331  \n",
       "2020-04-01   71.987335  \n",
       "2020-07-01  166.106674  \n",
       "2020-10-01  235.223328  \n",
       "2021-01-01  294.363342  \n",
       "2021-04-01  254.106674  \n",
       "2021-07-01  263.786682  \n",
       "2021-10-01  409.970001  \n",
       "2022-01-03  399.926666  \n",
       "2022-04-01  381.816681  \n",
       "2022-07-01  309.320007  "
      ]
     },
     "execution_count": 66,
     "metadata": {},
     "output_type": "execute_result"
    }
   ],
   "source": [
    "df_tesla.resample(rule='BQS').max()"
   ]
  },
  {
   "cell_type": "code",
   "execution_count": 67,
   "id": "272295d0",
   "metadata": {},
   "outputs": [
    {
     "data": {
      "text/plain": [
       "<AxesSubplot:xlabel='Date'>"
      ]
     },
     "execution_count": 67,
     "metadata": {},
     "output_type": "execute_result"
    },
    {
     "data": {
      "image/png": "[encoded data removed]",
      "text/plain": [
       "<Figure size 432x288 with 1 Axes>"
      ]
     },
     "metadata": {
      "needs_background": "light"
     },
     "output_type": "display_data"
    }
   ],
   "source": [
    "##Now plotting\n",
    "df_tesla['Open'].resample(rule='BA').mean().plot(kind='bar')"
   ]
  },
  {
   "cell_type": "code",
   "execution_count": 68,
   "id": "a3779eec",
   "metadata": {},
   "outputs": [
    {
     "data": {
      "text/plain": [
       "<AxesSubplot:xlabel='Date'>"
      ]
     },
     "execution_count": 68,
     "metadata": {},
     "output_type": "execute_result"
    },
    {
     "data": {
      "image/png": "[encoded data removed]",
      "text/plain": [
       "<Figure size 432x288 with 1 Axes>"
      ]
     },
     "metadata": {
      "needs_background": "light"
     },
     "output_type": "display_data"
    }
   ],
   "source": [
    "df_tesla['Open'].resample(rule='A').mean().plot(kind='bar')"
   ]
  },
  {
   "cell_type": "code",
   "execution_count": 69,
   "id": "0d2efc8f",
   "metadata": {},
   "outputs": [
    {
     "data": {
      "text/plain": [
       "Date\n",
       "2017-09-30     23.954842\n",
       "2017-10-31     22.970455\n",
       "2017-11-30     20.704381\n",
       "2017-12-31     21.514700\n",
       "2018-01-31     22.459206\n",
       "                 ...    \n",
       "2022-05-31    256.985554\n",
       "2022-06-30    234.472539\n",
       "2022-07-31    248.886668\n",
       "2022-08-31    297.223042\n",
       "2022-09-30    276.824997\n",
       "Freq: M, Name: Open, Length: 61, dtype: float64"
      ]
     },
     "execution_count": 69,
     "metadata": {},
     "output_type": "execute_result"
    }
   ],
   "source": [
    "df_tesla['Open'].resample(rule='M').mean() #monthly mean"
   ]
  },
  {
   "cell_type": "code",
   "execution_count": 71,
   "id": "43a5ff45",
   "metadata": {},
   "outputs": [
    {
     "data": {
      "text/plain": [
       "<AxesSubplot:xlabel='Date'>"
      ]
     },
     "execution_count": 71,
     "metadata": {},
     "output_type": "execute_result"
    },
    {
     "data": {
      "image/png": "[encoded data removed]",
      "text/plain": [
       "<Figure size 1080x432 with 1 Axes>"
      ]
     },
     "metadata": {
      "needs_background": "light"
     },
     "output_type": "display_data"
    }
   ],
   "source": [
    "df_tesla['Open'].resample(rule='M').mean().plot(kind='bar',figsize=(15,6))"
   ]
  },
  {
   "cell_type": "code",
   "execution_count": 72,
   "id": "47cb4482",
   "metadata": {},
   "outputs": [
    {
     "data": {
      "text/html": [
       "<div>\n",
       "<style scoped>\n",
       "    .dataframe tbody tr th:only-of-type {\n",
       "        vertical-align: middle;\n",
       "    }\n",
       "\n",
       "    .dataframe tbody tr th {\n",
       "        vertical-align: top;\n",
       "    }\n",
       "\n",
       "    .dataframe thead th {\n",
       "        text-align: right;\n",
       "    }\n",
       "</style>\n",
       "<table border=\"1\" class=\"dataframe\">\n",
       "  <thead>\n",
       "    <tr style=\"text-align: right;\">\n",
       "      <th></th>\n",
       "      <th>High</th>\n",
       "      <th>Low</th>\n",
       "      <th>Open</th>\n",
       "      <th>Close</th>\n",
       "      <th>Volume</th>\n",
       "      <th>Adj Close</th>\n",
       "    </tr>\n",
       "    <tr>\n",
       "      <th>Date</th>\n",
       "      <th></th>\n",
       "      <th></th>\n",
       "      <th></th>\n",
       "      <th></th>\n",
       "      <th></th>\n",
       "      <th></th>\n",
       "    </tr>\n",
       "  </thead>\n",
       "  <tbody>\n",
       "    <tr>\n",
       "      <th>2017-09-05</th>\n",
       "      <td>23.699333</td>\n",
       "      <td>23.059334</td>\n",
       "      <td>23.586666</td>\n",
       "      <td>23.306000</td>\n",
       "      <td>57526500.0</td>\n",
       "      <td>23.306000</td>\n",
       "    </tr>\n",
       "    <tr>\n",
       "      <th>2017-09-06</th>\n",
       "      <td>23.398666</td>\n",
       "      <td>22.770666</td>\n",
       "      <td>23.299999</td>\n",
       "      <td>22.968666</td>\n",
       "      <td>61371000.0</td>\n",
       "      <td>22.968666</td>\n",
       "    </tr>\n",
       "    <tr>\n",
       "      <th>2017-09-07</th>\n",
       "      <td>23.498667</td>\n",
       "      <td>22.896667</td>\n",
       "      <td>23.065332</td>\n",
       "      <td>23.374001</td>\n",
       "      <td>63588000.0</td>\n",
       "      <td>23.374001</td>\n",
       "    </tr>\n",
       "    <tr>\n",
       "      <th>2017-09-08</th>\n",
       "      <td>23.318666</td>\n",
       "      <td>22.820000</td>\n",
       "      <td>23.266001</td>\n",
       "      <td>22.893333</td>\n",
       "      <td>48952500.0</td>\n",
       "      <td>22.893333</td>\n",
       "    </tr>\n",
       "    <tr>\n",
       "      <th>2017-09-11</th>\n",
       "      <td>24.247334</td>\n",
       "      <td>23.333332</td>\n",
       "      <td>23.423332</td>\n",
       "      <td>24.246000</td>\n",
       "      <td>115006500.0</td>\n",
       "      <td>24.246000</td>\n",
       "    </tr>\n",
       "  </tbody>\n",
       "</table>\n",
       "</div>"
      ],
      "text/plain": [
       "                 High        Low       Open      Close       Volume  Adj Close\n",
       "Date                                                                          \n",
       "2017-09-05  23.699333  23.059334  23.586666  23.306000   57526500.0  23.306000\n",
       "2017-09-06  23.398666  22.770666  23.299999  22.968666   61371000.0  22.968666\n",
       "2017-09-07  23.498667  22.896667  23.065332  23.374001   63588000.0  23.374001\n",
       "2017-09-08  23.318666  22.820000  23.266001  22.893333   48952500.0  22.893333\n",
       "2017-09-11  24.247334  23.333332  23.423332  24.246000  115006500.0  24.246000"
      ]
     },
     "execution_count": 72,
     "metadata": {},
     "output_type": "execute_result"
    }
   ],
   "source": [
    "df_tesla.head()"
   ]
  },
  {
   "cell_type": "code",
   "execution_count": 73,
   "id": "afc4f1ee",
   "metadata": {},
   "outputs": [
    {
     "data": {
      "text/plain": [
       "Date\n",
       "2017-09-05    23.699333\n",
       "2017-09-06    23.398666\n",
       "2017-09-07    23.498667\n",
       "2017-09-08    23.318666\n",
       "2017-09-11    24.247334\n",
       "Name: High, dtype: float64"
      ]
     },
     "execution_count": 73,
     "metadata": {},
     "output_type": "execute_result"
    }
   ],
   "source": [
    "df_tesla['High'].head()"
   ]
  },
  {
   "cell_type": "code",
   "execution_count": 77,
   "id": "810fafe2",
   "metadata": {},
   "outputs": [
    {
     "data": {
      "text/plain": [
       "Date\n",
       "2017-09-05          NaN\n",
       "2017-09-06          NaN\n",
       "2017-09-07          NaN\n",
       "2017-09-08          NaN\n",
       "2017-09-11          NaN\n",
       "2017-09-12          NaN\n",
       "2017-09-13          NaN\n",
       "2017-09-14          NaN\n",
       "2017-09-15          NaN\n",
       "2017-09-18    24.378933\n",
       "2017-09-19    24.558266\n",
       "2017-09-20    24.740067\n",
       "2017-09-21    24.902400\n",
       "2017-09-22    25.036533\n",
       "2017-09-25    24.994933\n",
       "2017-09-26    24.878133\n",
       "2017-09-27    24.767600\n",
       "2017-09-28    24.532867\n",
       "2017-09-29    24.297400\n",
       "2017-10-02    23.991333\n",
       "Name: High, dtype: float64"
      ]
     },
     "execution_count": 77,
     "metadata": {},
     "output_type": "execute_result"
    }
   ],
   "source": [
    "df_tesla['High'].rolling(10).mean().head(20)\n",
    "## here the mean of 1&2 is calculated and stored in 2nd then mea of 2nd and 3rd is cal.. and so on."
   ]
  },
  {
   "cell_type": "code",
   "execution_count": 82,
   "id": "e4337c0d",
   "metadata": {},
   "outputs": [],
   "source": [
    "df_tesla['Open: 30 days rolling'] = df_tesla['Open'].rolling(30).mean()"
   ]
  },
  {
   "cell_type": "code",
   "execution_count": 84,
   "id": "0609ce30",
   "metadata": {},
   "outputs": [
    {
     "data": {
      "text/html": [
       "<div>\n",
       "<style scoped>\n",
       "    .dataframe tbody tr th:only-of-type {\n",
       "        vertical-align: middle;\n",
       "    }\n",
       "\n",
       "    .dataframe tbody tr th {\n",
       "        vertical-align: top;\n",
       "    }\n",
       "\n",
       "    .dataframe thead th {\n",
       "        text-align: right;\n",
       "    }\n",
       "</style>\n",
       "<table border=\"1\" class=\"dataframe\">\n",
       "  <thead>\n",
       "    <tr style=\"text-align: right;\">\n",
       "      <th></th>\n",
       "      <th>High</th>\n",
       "      <th>Low</th>\n",
       "      <th>Open</th>\n",
       "      <th>Close</th>\n",
       "      <th>Volume</th>\n",
       "      <th>Adj Close</th>\n",
       "      <th>Open: 30 days rolling</th>\n",
       "    </tr>\n",
       "    <tr>\n",
       "      <th>Date</th>\n",
       "      <th></th>\n",
       "      <th></th>\n",
       "      <th></th>\n",
       "      <th></th>\n",
       "      <th></th>\n",
       "      <th></th>\n",
       "      <th></th>\n",
       "    </tr>\n",
       "  </thead>\n",
       "  <tbody>\n",
       "    <tr>\n",
       "      <th>2017-09-05</th>\n",
       "      <td>23.699333</td>\n",
       "      <td>23.059334</td>\n",
       "      <td>23.586666</td>\n",
       "      <td>23.306000</td>\n",
       "      <td>57526500.0</td>\n",
       "      <td>23.306000</td>\n",
       "      <td>NaN</td>\n",
       "    </tr>\n",
       "    <tr>\n",
       "      <th>2017-09-06</th>\n",
       "      <td>23.398666</td>\n",
       "      <td>22.770666</td>\n",
       "      <td>23.299999</td>\n",
       "      <td>22.968666</td>\n",
       "      <td>61371000.0</td>\n",
       "      <td>22.968666</td>\n",
       "      <td>NaN</td>\n",
       "    </tr>\n",
       "    <tr>\n",
       "      <th>2017-09-07</th>\n",
       "      <td>23.498667</td>\n",
       "      <td>22.896667</td>\n",
       "      <td>23.065332</td>\n",
       "      <td>23.374001</td>\n",
       "      <td>63588000.0</td>\n",
       "      <td>23.374001</td>\n",
       "      <td>NaN</td>\n",
       "    </tr>\n",
       "    <tr>\n",
       "      <th>2017-09-08</th>\n",
       "      <td>23.318666</td>\n",
       "      <td>22.820000</td>\n",
       "      <td>23.266001</td>\n",
       "      <td>22.893333</td>\n",
       "      <td>48952500.0</td>\n",
       "      <td>22.893333</td>\n",
       "      <td>NaN</td>\n",
       "    </tr>\n",
       "    <tr>\n",
       "      <th>2017-09-11</th>\n",
       "      <td>24.247334</td>\n",
       "      <td>23.333332</td>\n",
       "      <td>23.423332</td>\n",
       "      <td>24.246000</td>\n",
       "      <td>115006500.0</td>\n",
       "      <td>24.246000</td>\n",
       "      <td>NaN</td>\n",
       "    </tr>\n",
       "    <tr>\n",
       "      <th>2017-09-12</th>\n",
       "      <td>24.584000</td>\n",
       "      <td>24.026667</td>\n",
       "      <td>24.299334</td>\n",
       "      <td>24.183332</td>\n",
       "      <td>89593500.0</td>\n",
       "      <td>24.183332</td>\n",
       "      <td>NaN</td>\n",
       "    </tr>\n",
       "    <tr>\n",
       "      <th>2017-09-13</th>\n",
       "      <td>24.538000</td>\n",
       "      <td>23.972668</td>\n",
       "      <td>24.254667</td>\n",
       "      <td>24.415333</td>\n",
       "      <td>62778000.0</td>\n",
       "      <td>24.415333</td>\n",
       "      <td>NaN</td>\n",
       "    </tr>\n",
       "    <tr>\n",
       "      <th>2017-09-14</th>\n",
       "      <td>25.197332</td>\n",
       "      <td>24.175333</td>\n",
       "      <td>24.288668</td>\n",
       "      <td>25.176001</td>\n",
       "      <td>108037500.0</td>\n",
       "      <td>25.176001</td>\n",
       "      <td>NaN</td>\n",
       "    </tr>\n",
       "    <tr>\n",
       "      <th>2017-09-15</th>\n",
       "      <td>25.333332</td>\n",
       "      <td>24.846666</td>\n",
       "      <td>24.967333</td>\n",
       "      <td>25.320667</td>\n",
       "      <td>81307500.0</td>\n",
       "      <td>25.320667</td>\n",
       "      <td>NaN</td>\n",
       "    </tr>\n",
       "    <tr>\n",
       "      <th>2017-09-18</th>\n",
       "      <td>25.974001</td>\n",
       "      <td>25.178667</td>\n",
       "      <td>25.350000</td>\n",
       "      <td>25.666668</td>\n",
       "      <td>107820000.0</td>\n",
       "      <td>25.666668</td>\n",
       "      <td>NaN</td>\n",
       "    </tr>\n",
       "    <tr>\n",
       "      <th>2017-09-19</th>\n",
       "      <td>25.492666</td>\n",
       "      <td>24.904667</td>\n",
       "      <td>25.333332</td>\n",
       "      <td>25.006666</td>\n",
       "      <td>96778500.0</td>\n",
       "      <td>25.006666</td>\n",
       "      <td>NaN</td>\n",
       "    </tr>\n",
       "    <tr>\n",
       "      <th>2017-09-20</th>\n",
       "      <td>25.216667</td>\n",
       "      <td>24.738001</td>\n",
       "      <td>24.866667</td>\n",
       "      <td>24.927334</td>\n",
       "      <td>73786500.0</td>\n",
       "      <td>24.927334</td>\n",
       "      <td>NaN</td>\n",
       "    </tr>\n",
       "    <tr>\n",
       "      <th>2017-09-21</th>\n",
       "      <td>25.122000</td>\n",
       "      <td>24.300667</td>\n",
       "      <td>24.993334</td>\n",
       "      <td>24.431999</td>\n",
       "      <td>69273000.0</td>\n",
       "      <td>24.431999</td>\n",
       "      <td>NaN</td>\n",
       "    </tr>\n",
       "    <tr>\n",
       "      <th>2017-09-22</th>\n",
       "      <td>24.660000</td>\n",
       "      <td>23.392000</td>\n",
       "      <td>24.432667</td>\n",
       "      <td>23.406000</td>\n",
       "      <td>122391000.0</td>\n",
       "      <td>23.406000</td>\n",
       "      <td>NaN</td>\n",
       "    </tr>\n",
       "    <tr>\n",
       "      <th>2017-09-25</th>\n",
       "      <td>23.831333</td>\n",
       "      <td>22.858667</td>\n",
       "      <td>23.543333</td>\n",
       "      <td>22.999332</td>\n",
       "      <td>114088500.0</td>\n",
       "      <td>22.999332</td>\n",
       "      <td>NaN</td>\n",
       "    </tr>\n",
       "    <tr>\n",
       "      <th>2017-09-26</th>\n",
       "      <td>23.416000</td>\n",
       "      <td>22.726667</td>\n",
       "      <td>23.395332</td>\n",
       "      <td>23.016666</td>\n",
       "      <td>107344500.0</td>\n",
       "      <td>23.016666</td>\n",
       "      <td>NaN</td>\n",
       "    </tr>\n",
       "    <tr>\n",
       "      <th>2017-09-27</th>\n",
       "      <td>23.432667</td>\n",
       "      <td>22.700001</td>\n",
       "      <td>23.326668</td>\n",
       "      <td>22.731333</td>\n",
       "      <td>90904500.0</td>\n",
       "      <td>22.731333</td>\n",
       "      <td>NaN</td>\n",
       "    </tr>\n",
       "    <tr>\n",
       "      <th>2017-09-28</th>\n",
       "      <td>22.850000</td>\n",
       "      <td>22.360001</td>\n",
       "      <td>22.658667</td>\n",
       "      <td>22.639999</td>\n",
       "      <td>79794000.0</td>\n",
       "      <td>22.639999</td>\n",
       "      <td>NaN</td>\n",
       "    </tr>\n",
       "    <tr>\n",
       "      <th>2017-09-29</th>\n",
       "      <td>22.978666</td>\n",
       "      <td>22.573334</td>\n",
       "      <td>22.790667</td>\n",
       "      <td>22.740000</td>\n",
       "      <td>76606500.0</td>\n",
       "      <td>22.740000</td>\n",
       "      <td>NaN</td>\n",
       "    </tr>\n",
       "    <tr>\n",
       "      <th>2017-10-02</th>\n",
       "      <td>22.913334</td>\n",
       "      <td>22.367332</td>\n",
       "      <td>22.834667</td>\n",
       "      <td>22.768667</td>\n",
       "      <td>79302000.0</td>\n",
       "      <td>22.768667</td>\n",
       "      <td>NaN</td>\n",
       "    </tr>\n",
       "    <tr>\n",
       "      <th>2017-10-03</th>\n",
       "      <td>23.236668</td>\n",
       "      <td>22.085333</td>\n",
       "      <td>22.393333</td>\n",
       "      <td>23.209333</td>\n",
       "      <td>152304000.0</td>\n",
       "      <td>23.209333</td>\n",
       "      <td>NaN</td>\n",
       "    </tr>\n",
       "    <tr>\n",
       "      <th>2017-10-04</th>\n",
       "      <td>23.908001</td>\n",
       "      <td>23.306667</td>\n",
       "      <td>23.416668</td>\n",
       "      <td>23.667334</td>\n",
       "      <td>122452500.0</td>\n",
       "      <td>23.667334</td>\n",
       "      <td>NaN</td>\n",
       "    </tr>\n",
       "    <tr>\n",
       "      <th>2017-10-05</th>\n",
       "      <td>23.829332</td>\n",
       "      <td>23.423332</td>\n",
       "      <td>23.733334</td>\n",
       "      <td>23.688667</td>\n",
       "      <td>62575500.0</td>\n",
       "      <td>23.688667</td>\n",
       "      <td>NaN</td>\n",
       "    </tr>\n",
       "    <tr>\n",
       "      <th>2017-10-06</th>\n",
       "      <td>24.006666</td>\n",
       "      <td>23.483334</td>\n",
       "      <td>23.540001</td>\n",
       "      <td>23.792000</td>\n",
       "      <td>64462500.0</td>\n",
       "      <td>23.792000</td>\n",
       "      <td>NaN</td>\n",
       "    </tr>\n",
       "    <tr>\n",
       "      <th>2017-10-09</th>\n",
       "      <td>23.450001</td>\n",
       "      <td>22.844667</td>\n",
       "      <td>23.309999</td>\n",
       "      <td>22.862667</td>\n",
       "      <td>112405500.0</td>\n",
       "      <td>22.862667</td>\n",
       "      <td>NaN</td>\n",
       "    </tr>\n",
       "    <tr>\n",
       "      <th>2017-10-10</th>\n",
       "      <td>23.708668</td>\n",
       "      <td>23.035334</td>\n",
       "      <td>23.120001</td>\n",
       "      <td>23.705999</td>\n",
       "      <td>104677500.0</td>\n",
       "      <td>23.705999</td>\n",
       "      <td>NaN</td>\n",
       "    </tr>\n",
       "    <tr>\n",
       "      <th>2017-10-11</th>\n",
       "      <td>23.840000</td>\n",
       "      <td>23.410000</td>\n",
       "      <td>23.592667</td>\n",
       "      <td>23.639999</td>\n",
       "      <td>67512000.0</td>\n",
       "      <td>23.639999</td>\n",
       "      <td>NaN</td>\n",
       "    </tr>\n",
       "    <tr>\n",
       "      <th>2017-10-12</th>\n",
       "      <td>23.985332</td>\n",
       "      <td>23.509333</td>\n",
       "      <td>23.530001</td>\n",
       "      <td>23.712000</td>\n",
       "      <td>61305000.0</td>\n",
       "      <td>23.712000</td>\n",
       "      <td>NaN</td>\n",
       "    </tr>\n",
       "    <tr>\n",
       "      <th>2017-10-13</th>\n",
       "      <td>23.899332</td>\n",
       "      <td>23.578667</td>\n",
       "      <td>23.798668</td>\n",
       "      <td>23.704666</td>\n",
       "      <td>53107500.0</td>\n",
       "      <td>23.704666</td>\n",
       "      <td>NaN</td>\n",
       "    </tr>\n",
       "    <tr>\n",
       "      <th>2017-10-16</th>\n",
       "      <td>23.632000</td>\n",
       "      <td>23.143999</td>\n",
       "      <td>23.584000</td>\n",
       "      <td>23.373333</td>\n",
       "      <td>80632500.0</td>\n",
       "      <td>23.373333</td>\n",
       "      <td>23.733178</td>\n",
       "    </tr>\n",
       "    <tr>\n",
       "      <th>2017-10-17</th>\n",
       "      <td>23.747999</td>\n",
       "      <td>23.337999</td>\n",
       "      <td>23.393999</td>\n",
       "      <td>23.716667</td>\n",
       "      <td>49399500.0</td>\n",
       "      <td>23.716667</td>\n",
       "      <td>23.726756</td>\n",
       "    </tr>\n",
       "  </tbody>\n",
       "</table>\n",
       "</div>"
      ],
      "text/plain": [
       "                 High        Low       Open      Close       Volume  \\\n",
       "Date                                                                  \n",
       "2017-09-05  23.699333  23.059334  23.586666  23.306000   57526500.0   \n",
       "2017-09-06  23.398666  22.770666  23.299999  22.968666   61371000.0   \n",
       "2017-09-07  23.498667  22.896667  23.065332  23.374001   63588000.0   \n",
       "2017-09-08  23.318666  22.820000  23.266001  22.893333   48952500.0   \n",
       "2017-09-11  24.247334  23.333332  23.423332  24.246000  115006500.0   \n",
       "2017-09-12  24.584000  24.026667  24.299334  24.183332   89593500.0   \n",
       "2017-09-13  24.538000  23.972668  24.254667  24.415333   62778000.0   \n",
       "2017-09-14  25.197332  24.175333  24.288668  25.176001  108037500.0   \n",
       "2017-09-15  25.333332  24.846666  24.967333  25.320667   81307500.0   \n",
       "2017-09-18  25.974001  25.178667  25.350000  25.666668  107820000.0   \n",
       "2017-09-19  25.492666  24.904667  25.333332  25.006666   96778500.0   \n",
       "2017-09-20  25.216667  24.738001  24.866667  24.927334   73786500.0   \n",
       "2017-09-21  25.122000  24.300667  24.993334  24.431999   69273000.0   \n",
       "2017-09-22  24.660000  23.392000  24.432667  23.406000  122391000.0   \n",
       "2017-09-25  23.831333  22.858667  23.543333  22.999332  114088500.0   \n",
       "2017-09-26  23.416000  22.726667  23.395332  23.016666  107344500.0   \n",
       "2017-09-27  23.432667  22.700001  23.326668  22.731333   90904500.0   \n",
       "2017-09-28  22.850000  22.360001  22.658667  22.639999   79794000.0   \n",
       "2017-09-29  22.978666  22.573334  22.790667  22.740000   76606500.0   \n",
       "2017-10-02  22.913334  22.367332  22.834667  22.768667   79302000.0   \n",
       "2017-10-03  23.236668  22.085333  22.393333  23.209333  152304000.0   \n",
       "2017-10-04  23.908001  23.306667  23.416668  23.667334  122452500.0   \n",
       "2017-10-05  23.829332  23.423332  23.733334  23.688667   62575500.0   \n",
       "2017-10-06  24.006666  23.483334  23.540001  23.792000   64462500.0   \n",
       "2017-10-09  23.450001  22.844667  23.309999  22.862667  112405500.0   \n",
       "2017-10-10  23.708668  23.035334  23.120001  23.705999  104677500.0   \n",
       "2017-10-11  23.840000  23.410000  23.592667  23.639999   67512000.0   \n",
       "2017-10-12  23.985332  23.509333  23.530001  23.712000   61305000.0   \n",
       "2017-10-13  23.899332  23.578667  23.798668  23.704666   53107500.0   \n",
       "2017-10-16  23.632000  23.143999  23.584000  23.373333   80632500.0   \n",
       "2017-10-17  23.747999  23.337999  23.393999  23.716667   49399500.0   \n",
       "\n",
       "            Adj Close  Open: 30 days rolling  \n",
       "Date                                          \n",
       "2017-09-05  23.306000                    NaN  \n",
       "2017-09-06  22.968666                    NaN  \n",
       "2017-09-07  23.374001                    NaN  \n",
       "2017-09-08  22.893333                    NaN  \n",
       "2017-09-11  24.246000                    NaN  \n",
       "2017-09-12  24.183332                    NaN  \n",
       "2017-09-13  24.415333                    NaN  \n",
       "2017-09-14  25.176001                    NaN  \n",
       "2017-09-15  25.320667                    NaN  \n",
       "2017-09-18  25.666668                    NaN  \n",
       "2017-09-19  25.006666                    NaN  \n",
       "2017-09-20  24.927334                    NaN  \n",
       "2017-09-21  24.431999                    NaN  \n",
       "2017-09-22  23.406000                    NaN  \n",
       "2017-09-25  22.999332                    NaN  \n",
       "2017-09-26  23.016666                    NaN  \n",
       "2017-09-27  22.731333                    NaN  \n",
       "2017-09-28  22.639999                    NaN  \n",
       "2017-09-29  22.740000                    NaN  \n",
       "2017-10-02  22.768667                    NaN  \n",
       "2017-10-03  23.209333                    NaN  \n",
       "2017-10-04  23.667334                    NaN  \n",
       "2017-10-05  23.688667                    NaN  \n",
       "2017-10-06  23.792000                    NaN  \n",
       "2017-10-09  22.862667                    NaN  \n",
       "2017-10-10  23.705999                    NaN  \n",
       "2017-10-11  23.639999                    NaN  \n",
       "2017-10-12  23.712000                    NaN  \n",
       "2017-10-13  23.704666                    NaN  \n",
       "2017-10-16  23.373333              23.733178  \n",
       "2017-10-17  23.716667              23.726756  "
      ]
     },
     "execution_count": 84,
     "metadata": {},
     "output_type": "execute_result"
    }
   ],
   "source": [
    "df_tesla.head(31)"
   ]
  },
  {
   "cell_type": "code",
   "execution_count": 86,
   "id": "870ed53a",
   "metadata": {},
   "outputs": [
    {
     "data": {
      "text/plain": [
       "<AxesSubplot:xlabel='Date'>"
      ]
     },
     "execution_count": 86,
     "metadata": {},
     "output_type": "execute_result"
    },
    {
     "data": {
      "image/png": "[encoded data removed]",
      "text/plain": [
       "<Figure size 864x360 with 1 Axes>"
      ]
     },
     "metadata": {
      "needs_background": "light"
     },
     "output_type": "display_data"
    }
   ],
   "source": [
    "df_tesla[['Open','Open: 30 days rolling']].plot(figsize=(12,5))\n",
    "## rollign graph is smooth as compaired tot hte individual column data in the tSA"
   ]
  },
  {
   "cell_type": "code",
   "execution_count": null,
   "id": "9882ec9a",
   "metadata": {},
   "outputs": [],
   "source": []
  }
 ],
 "metadata": {
  "kernelspec": {
   "display_name": "Python 3 (ipykernel)",
   "language": "python",
   "name": "python3"
  },
  "language_info": {
   "codemirror_mode": {
    "name": "ipython",
    "version": 3
   },
   "file_extension": ".py",
   "mimetype": "text/x-python",
   "name": "python",
   "nbconvert_exporter": "python",
   "pygments_lexer": "ipython3",
   "version": "3.9.6"
  },
  "vscode": {
   "interpreter": {
    "hash": "618bbadb9914128447fd922d1e72f950848015c2c5a2940f9918db08be8e0dec"
   }
  }
 },
 "nbformat": 4,
 "nbformat_minor": 5
}
